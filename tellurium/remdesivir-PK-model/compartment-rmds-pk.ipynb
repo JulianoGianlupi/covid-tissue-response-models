{
 "cells": [
  {
   "cell_type": "code",
   "execution_count": 1,
   "metadata": {},
   "outputs": [],
   "source": [
    "import tellurium as te\n",
    "import numpy as np\n",
    "import matplotlib.pyplot as plt\n",
    "import lmfit\n",
    "from scipy import optimize as opt\n",
    "from IPython.display import clear_output\n",
    "#import csv"
   ]
  },
  {
   "cell_type": "code",
   "execution_count": 2,
   "metadata": {},
   "outputs": [],
   "source": [
    "model_str = '''\n",
    "    model dosingmodel()\n",
    "    //Time is in days!\n",
    "    \n",
    "    //infusion\n",
    "    \n",
    "    -> Dpls; switch * infusion_amount / one_our // switch = (0,1) to turn on or off, infusion happens over 1h\n",
    "    \n",
    "    //flow from plasma \n",
    "    \n",
    "    Dpls -> ; kE0 * Dpls // elimination\n",
    "    \n",
    "    Dpls -> Dperi ; kp * Dpls // to periphery \n",
    "    \n",
    "    Dpls -> Dlung ; k0 * Dpls\n",
    "    \n",
    "    // flow from periphery\n",
    "    \n",
    "    Dperi -> Dpls ; kpp * Dpls // to plasma \n",
    "    \n",
    "    // Drug reactions / flow in lung\n",
    "    \n",
    "    Dlung -> Dpls ; k0 * Dlung\n",
    "    \n",
    "    Dlung -> Mala ; k12 * Dlung\n",
    "    \n",
    "    Dlung -> ; kE1 * Dlung\n",
    "    \n",
    "    // Mala reactions\n",
    "    \n",
    "    Mala -> Mnmp ; k23 * Mala\n",
    "    \n",
    "    Mala -> ; kE2 * Mala\n",
    "    \n",
    "    //Mnmp reactions\n",
    "    \n",
    "    Mnmp -> Mntp ; k34 * Mnmp\n",
    "    Mnmp ->  ; kE3 * Mnmp\n",
    "    \n",
    "    // Mntp reaction\n",
    "    \n",
    "    Mntp -> ; kE4 * Mntp\n",
    "    \n",
    "    //parameters\n",
    "    // initial conditions \n",
    "    \n",
    "    //utils\n",
    "    switch = 0 //turns infusion on/off\n",
    "    curr_infu_start = 0 // tracks when current infusion started\n",
    "    \n",
    "    // rates\n",
    "    \n",
    "    kp = 0.41195\n",
    "    \n",
    "    kpp = 0.36502\n",
    "\n",
    "    k0 = 6.3335\n",
    "    \n",
    "    k12 = 1.2248\n",
    "    \n",
    "    k23 = 372.61\n",
    "    \n",
    "    k34 = 181.64\n",
    "\n",
    "    kE0 = 20.253\n",
    "    \n",
    "    kE1 = 7.81\n",
    "    \n",
    "    kE2 = 6.0801\n",
    "    \n",
    "    kE3 = 0.97259\n",
    "    \n",
    "    kE4 = 0.83115\n",
    "\n",
    "    //constants\n",
    "    infusion_amount = 1\n",
    "    \n",
    "    dose_interval = 1\n",
    "    \n",
    "    dose_end = 9999\n",
    "    \n",
    "    one_our = 1/24 \n",
    "    \n",
    "    first_dose = 0\n",
    "    \n",
    "    // events\n",
    "    \n",
    "    E1: at (time - first_dose > 0): switch = 1, curr_infu_start = time ; // starts the first infusion\n",
    "    //E2: at ( (time-first_dose > dose_interval) && (time < dose_end) && sin((((time-first_dose)/dose_interval))*2*pi)>0): switch = 1, curr_infu_start = time; // starts the subsequent infusions\n",
    "    E3: at (time - (one_our + curr_infu_start) > 0): switch = 0 ; // turns infusion off\n",
    "    \n",
    "    end\n",
    "'''\n"
   ]
  },
  {
   "cell_type": "code",
   "execution_count": 3,
   "metadata": {},
   "outputs": [
    {
     "data": {
      "image/png": "[encoded data removed]",
      "text/plain": [
       "<Figure size 432x288 with 1 Axes>"
      ]
     },
     "metadata": {},
     "output_type": "display_data"
    }
   ],
   "source": [
    "\n",
    "r = te.loada(model_str)\n",
    "r.simulate(0, 2, 1000)\n",
    "r.plot()"
   ]
  },
  {
   "cell_type": "code",
   "execution_count": 4,
   "metadata": {},
   "outputs": [],
   "source": [
    "compartments_model_str = '''\n",
    "    model dosingmodel()\n",
    "    //Time is in hours!\n",
    "    \n",
    "    // compartments\n",
    "    \n",
    "    compartment L; //lungs\n",
    "    L = 6.0 // volume of L\n",
    "    \n",
    "    \n",
    "    compartment P; // plasma\n",
    "    P = 3.0\n",
    "    \n",
    "    compartment B; // rest of body\n",
    "    B = 90.0\n",
    "    \n",
    "    // species\n",
    "    \n",
    "    species Dpls, Dperi, Dlung, Mala, Mnmp, Mntp;\n",
    "    \n",
    "    Dpls in P;\n",
    "    \n",
    "    Dperi in B;\n",
    "    \n",
    "    Dlung in L;\n",
    "    \n",
    "    Mala in L;\n",
    "    \n",
    "    Mnmp in L;\n",
    "    \n",
    "    Mntp in L;\n",
    "        \n",
    "    //infusion    \n",
    "    J0: -> Dpls; switch * infusion_amount / one_our // switch = (0,1) to turn on or off, infusion happens over 1h    \n",
    "    //flow from plasma     \n",
    "    J1: Dpls -> ; kE0 * Dpls // elimination    \n",
    "    J2: Dpls -> Dperi ; kp * Dpls // to periphery     \n",
    "    J3: Dpls -> Dlung ; k01 * Dpls\n",
    "        \n",
    "    // flow from periphery    \n",
    "    J4: Dperi -> Dpls ; kpp * Dpls // to plasma     \n",
    "    \n",
    "    // Drug reactions / flow in lung    \n",
    "    J5: Dlung -> Dpls ; k10 * Dlung    \n",
    "    J6: Dlung -> Mala ; k12 * Dlung    \n",
    "    J7: Dlung -> ; kE1 * Dlung\n",
    "    \n",
    "    // Mala reactions    \n",
    "    J8: Mala -> Mnmp ; k23 * Mala    \n",
    "    J9: Mala -> ; kE2 * Mala\n",
    "    \n",
    "    //Mnmp reactions    \n",
    "    J10: Mnmp -> Mntp ; k34 * Mnmp\n",
    "    J11: Mnmp ->  ; kE3 * Mnmp\n",
    "    \n",
    "    // Mntp reaction    \n",
    "    J12: Mntp -> ; kE4 * Mntp\n",
    "    \n",
    "    \n",
    "    //parameters\n",
    "    // initial conditions \n",
    "    \n",
    "    //utils\n",
    "    switch = 0 //turns infusion on/off\n",
    "    curr_infu_start = 0 // tracks when current infusion started\n",
    "    \n",
    "    // rates\n",
    "    \n",
    "    kp = 1\n",
    "    \n",
    "    kpp = 1\n",
    "    \n",
    "    k01 = 6.3335 / 24    \n",
    "    k10 = 6.3335 / 24\n",
    "        \n",
    "    k12 = 1.2248 / 24\n",
    "    \n",
    "    k23 = 372.61 / 24\n",
    "    \n",
    "    k34 = 181.64 / 24\n",
    "\n",
    "    kE0 = 20.253 / 24\n",
    "    \n",
    "    kE1 = 7.81 / 24\n",
    "    \n",
    "    kE2 = 6.0801 / 24\n",
    "    \n",
    "    kE3 = 0.97259 / 24\n",
    "    \n",
    "    kE4 = 0.83115 / 24\n",
    "\n",
    "    //constants\n",
    "    infusion_amount = 2.82630816e+03\n",
    "    \n",
    "    dose_interval = 1\n",
    "    \n",
    "    dose_end = 9999\n",
    "    \n",
    "    one_our = 1\n",
    "    \n",
    "    first_dose = 0\n",
    "    \n",
    "    // events\n",
    "     //E1: at (time - first_dose > 0): switch = 1, curr_infu_start = time ; // starts the first infusion\n",
    "    //E2: at ( (time-first_dose > dose_interval) && (time < dose_end) && sin((((time-first_dose)/dose_interval))*2*pi)>0): switch = 1, curr_infu_start = time; // starts the subsequent infusions\n",
    "    //E3: at (time - (one_our + curr_infu_start) > 0): switch = 0 ; // turns infusion off\n",
    "    E4: at (time - one_our + curr_infu_start > 0): Dpls = infusion_amount ;\n",
    "    \n",
    "    end\n",
    "'''\n"
   ]
  },
  {
   "cell_type": "code",
   "execution_count": 5,
   "metadata": {
    "scrolled": true
   },
   "outputs": [],
   "source": [
    "\n",
    "# nr = te.loada(compartments_model_str)\n",
    "# rnr = nr.simulate(data[0,0], 1.1*data[-1,0], len(data[:,0])*1000)\n",
    "# nr.plot()\n",
    "# nr = te.loada(compartments_model_str)\n",
    "# nr.B = 1000000\n",
    "# print(nr.B)\n",
    "# rnr = nr.simulate(0, 3, 1000)\n",
    "# nr.plot()\n"
   ]
  },
  {
   "cell_type": "code",
   "execution_count": 10,
   "metadata": {},
   "outputs": [],
   "source": [
    "global fitted_params\n",
    "fitted_params = {}\n",
    "global data, var_to_fit\n",
    "data = None\n",
    "var_to_fit = None"
   ]
  },
  {
   "cell_type": "code",
   "execution_count": 12,
   "metadata": {},
   "outputs": [],
   "source": [
    "def cost_fnc(p):\n",
    "    if data is None or var_to_fit is None:\n",
    "         return\n",
    "    m = te.loada(compartments_model_str)\n",
    "    param_values = p.valuesdict()    \n",
    "    for key in p:\n",
    "        m.model[key] = param_values[key]\n",
    "    for key, value in fitted_params.items():\n",
    "        m.model[key] = value\n",
    "    try:\n",
    "        sqdiff = 0\n",
    "        s = m.simulate(data[0,0], 1.1*data[-1,0], len(data[:,0])*10000)\n",
    "        for i in range(len(data[:,0])):\n",
    "            j = (np.abs(s['time'] - data[i,0])).argmin()\n",
    "#             print((np.abs(s['time'] - data[i,0])).argmin(), s['time'][j], data[i,0])\n",
    "            if var_to_fit == '[Dpls]' and s[var_to_fit][j] < 1:\n",
    "                continue\n",
    "            sqdiff += (data[i,1] - s[var_to_fit][j])**2\n",
    "        clear_output(wait=True)\n",
    "        plt.plot(data[:,0],data[:,1], '.', label='Data '+ var_to_fit)\n",
    "        plt.plot(s['time'], s[var_to_fit],label='Model')\n",
    "        plt.legend(loc=1)\n",
    "        plt.title('Chi-squared Error: %.2f' % sqdiff)\n",
    "        plt.ylabel('Concentration')\n",
    "        plt.xlabel('Time (hours)')\n",
    "        plt.grid()\n",
    "        plt.show()\n",
    "    except RuntimeError:\n",
    "        sqdiff = 1E21\n",
    "        return sqdiff\n",
    "    \n",
    "    return np.sqrt(sqdiff)\n",
    "    "
   ]
  },
  {
   "cell_type": "code",
   "execution_count": 13,
   "metadata": {
    "scrolled": true
   },
   "outputs": [],
   "source": [
    "plsm_params = lmfit.Parameters()\n",
    "plsm_params.add('B', value = 90, min=40, max=130)\n",
    "plsm_params.add('P', value = 3, min=2, max=4)\n",
    "plsm_params.add('L', value = 6, min=4, max=8)\n",
    "\n",
    "kE0_init_guess = 20.253 / 24\n",
    "plsm_params.add('kE0', value = kE0_init_guess, min = 0)\n",
    "\n",
    "kE1_init_guess = 7.81 / 24\n",
    "plsm_params.add('kE1', value = kE1_init_guess, min = 0)\n",
    "\n",
    "k12_init_guess = 1.2248 / 24\n",
    "plsm_params.add('k12', value = k12_init_guess, min = 0)\n",
    "\n",
    "kp_init_guess = 1\n",
    "plsm_params.add('kp', value = kp_init_guess, min = 0)\n",
    "\n",
    "kpp_init_guess = 1\n",
    "plsm_params.add('kpp', value = kpp_init_guess, min = 0)\n",
    "\n",
    "k01 = 6.3335 / 24    \n",
    "plsm_params.add('k01', value = k01, min = 0)\n",
    "\n",
    "k10 = 6.3335 / 24\n",
    "plsm_params.add('k10', value = k10, min = 0)\n",
    "\n",
    "\n",
    "# infusion_amount = 10000\n",
    "# plsm_params.add('infusion_amount', value = infusion_amount)\n",
    "\n",
    "# v = plsm_params.valuesdict()\n",
    "# v['B']\n",
    "\n",
    "# for key in plsm_params:\n",
    "#     print(key)\n",
    "#     print(v[key])"
   ]
  },
  {
   "cell_type": "code",
   "execution_count": 14,
   "metadata": {
    "scrolled": false
   },
   "outputs": [],
   "source": [
    "rmds_data = np.loadtxt(open('rdv-graph-fig2.csv', 'r'), delimiter=\",\")\n",
    "cost_fnc(plsm_params)"
   ]
  },
  {
   "cell_type": "code",
   "execution_count": 15,
   "metadata": {},
   "outputs": [],
   "source": [
    "global data, var_to_fit\n",
    "data = rmds_data\n",
    "var_to_fit = '[Dpls]'\n",
    "plsm_minimizer = lmfit.Minimizer(cost_fnc, plsm_params)\n",
    "# plsm_minimizer = opt.minimize(cost_fnc, params)\n"
   ]
  },
  {
   "cell_type": "code",
   "execution_count": 16,
   "metadata": {},
   "outputs": [
    {
     "data": {
      "image/png": "[encoded data removed]",
      "text/plain": [
       "<Figure size 432x288 with 1 Axes>"
      ]
     },
     "metadata": {},
     "output_type": "display_data"
    }
   ],
   "source": [
    "# result = plsm_minimizer.minimize(method='dual_annealing')\n",
    "fitted_params = {}\n",
    "result = plsm_minimizer.minimize(method='nelder')"
   ]
  },
  {
   "cell_type": "code",
   "execution_count": 17,
   "metadata": {},
   "outputs": [],
   "source": [
    "plsm_fit_result = result"
   ]
  },
  {
   "cell_type": "code",
   "execution_count": 18,
   "metadata": {},
   "outputs": [
    {
     "name": "stdout",
     "output_type": "stream",
     "text": [
      "{'B': 129.63594697393683, 'P': 3.229906096861619, 'L': 7.035319143652125, 'kE0': 77.12144475098854, 'kE1': 96.06902969975401, 'k12': 9.817062031227053, 'kp': 107.51576564797482, 'kpp': 191.52460881790898}\n"
     ]
    }
   ],
   "source": [
    "fitted_params['B'] = plsm_fit_result.params['B'].value\n",
    "fitted_params['P'] = plsm_fit_result.params['P'].value\n",
    "fitted_params['L'] = plsm_fit_result.params['L'].value\n",
    "\n",
    "fitted_params['kE0'] = plsm_fit_result.params['kE0'].value\n",
    "fitted_params['kE1'] = plsm_fit_result.params['kE1'].value\n",
    "\n",
    "fitted_params['k12'] = plsm_fit_result.params['k12'].value\n",
    "fitted_params['kp'] = plsm_fit_result.params['kp'].value\n",
    "fitted_params['kpp'] = plsm_fit_result.params['kpp'].value\n",
    "print(fitted_params)"
   ]
  },
  {
   "cell_type": "code",
   "execution_count": 19,
   "metadata": {},
   "outputs": [],
   "source": []
  },
  {
   "cell_type": "code",
   "execution_count": 22,
   "metadata": {},
   "outputs": [
    {
     "data": {
      "text/plain": [
       "{'B': 129.63594697393683,\n",
       " 'P': 3.229906096861619,\n",
       " 'L': 7.035319143652125,\n",
       " 'kE0': 77.12144475098854,\n",
       " 'kE1': 96.06902969975401,\n",
       " 'k12': 9.817062031227053,\n",
       " 'kp': 107.51576564797482,\n",
       " 'kpp': 191.52460881790898}"
      ]
     },
     "execution_count": 22,
     "metadata": {},
     "output_type": "execute_result"
    }
   ],
   "source": [
    "# first_fit = fitted_params.copy()\n",
    "# fitted_params = {}\n",
    "first_fit"
   ]
  },
  {
   "cell_type": "code",
   "execution_count": 27,
   "metadata": {},
   "outputs": [
    {
     "data": {
      "image/png": "[encoded data removed]",
      "text/plain": [
       "<Figure size 432x288 with 1 Axes>"
      ]
     },
     "metadata": {},
     "output_type": "display_data"
    }
   ],
   "source": [
    "plsm_params = lmfit.Parameters()\n",
    "plsm_params.add('B', value = 90, min=60, max=110)\n",
    "plsm_params.add('P', value = 3, min=2, max=4)\n",
    "plsm_params.add('L', value = 6, min=4, max=8)\n",
    "\n",
    "kE0_init_guess = 20.253 / 24\n",
    "plsm_params.add('kE0', value = kE0_init_guess, min = 0)\n",
    "\n",
    "kE1_init_guess = 7.81 / 24\n",
    "plsm_params.add('kE1', value = kE1_init_guess, min = 0)\n",
    "\n",
    "k12_init_guess = 1.2248 / 24\n",
    "plsm_params.add('k12', value = k12_init_guess, min = 0)\n",
    "\n",
    "kp_init_guess = 1\n",
    "plsm_params.add('kp', value = kp_init_guess, min = 0)\n",
    "\n",
    "kpp_init_guess = 1\n",
    "plsm_params.add('kpp', value = kpp_init_guess, min = 0)\n",
    "\n",
    "k01 = 6.3335 / 24    \n",
    "plsm_params.add('k01', value = k01, min = 0)\n",
    "\n",
    "k10 = 6.3335 / 24\n",
    "plsm_minimizer = lmfit.Minimizer(cost_fnc, plsm_params)\n",
    "plsm_params.add('k10', value = k10, min = 0)\n",
    "result = plsm_minimizer.minimize(method='nelder')"
   ]
  },
  {
   "cell_type": "code",
   "execution_count": 28,
   "metadata": {},
   "outputs": [
    {
     "name": "stdout",
     "output_type": "stream",
     "text": [
      "{'B': 69.42985308484634, 'P': 3.229906096861619, 'L': 7.035319143652125, 'kE0': 77.12144475098854, 'kE1': 96.06902969975401, 'k12': 9.817062031227053, 'kp': 107.51576564797482, 'kpp': 191.52460881790898}\n"
     ]
    }
   ],
   "source": [
    "plsm_2nd_fit = {}\n",
    "plsm_2nd_fit['B'] = result.params['B'].value\n",
    "plsm_2nd_fit['P'] = result.params['P'].value\n",
    "plsm_2nd_fit['L'] = result.params['L'].value\n",
    "\n",
    "plsm_2nd_fit['kE0'] = result.params['kE0'].value\n",
    "plsm_2nd_fit['kE1'] = result.params['kE1'].value\n",
    "\n",
    "plsm_2nd_fit['k12'] = result.params['k12'].value\n",
    "plsm_2nd_fit['kp'] = result.params['kp'].value\n",
    "plsm_2nd_fit['kpp'] = result.params['kpp'].value\n",
    "print(plsm_2nd_fit)"
   ]
  },
  {
   "cell_type": "code",
   "execution_count": 30,
   "metadata": {},
   "outputs": [
    {
     "data": {
      "text/plain": [
       "{'B': 69.42985308484634,\n",
       " 'P': 3.229906096861619,\n",
       " 'L': 7.035319143652125,\n",
       " 'kE0': 77.12144475098854,\n",
       " 'kE1': 96.06902969975401,\n",
       " 'k12': 9.817062031227053,\n",
       " 'kp': 107.51576564797482,\n",
       " 'kpp': 191.52460881790898}"
      ]
     },
     "execution_count": 30,
     "metadata": {},
     "output_type": "execute_result"
    }
   ],
   "source": [
    "fitted_params = plsm_2nd_fit.copy()\n",
    "fitted_params"
   ]
  },
  {
   "cell_type": "code",
   "execution_count": null,
   "metadata": {},
   "outputs": [],
   "source": []
  },
  {
   "cell_type": "code",
   "execution_count": 33,
   "metadata": {},
   "outputs": [
    {
     "data": {
      "image/png": "[encoded data removed]",
      "text/plain": [
       "<Figure size 432x288 with 1 Axes>"
      ]
     },
     "metadata": {},
     "output_type": "display_data"
    },
    {
     "name": "stderr",
     "output_type": "stream",
     "text": [
      "/apps/share64/debian7/anaconda/anaconda3-5.1/lib/python3.6/site-packages/lmfit/minimizer.py:339: RuntimeWarning:\n",
      "\n",
      "divide by zero encountered in log\n",
      "\n"
     ]
    }
   ],
   "source": [
    "Mala_data = np.loadtxt(open('gs-704277-graph-fig2.csv', 'r'), delimiter=\",\")\n",
    "data = Mala_data\n",
    "var_to_fit = '[Mala]'\n",
    "\n",
    "mala_params = lmfit.Parameters()\n",
    "\n",
    "k01 = 6.3335 / 24\n",
    "mala_params.add('k01', value = k01, min = 0)\n",
    "\n",
    "k10 = 6.3335 / 24\n",
    "mala_params.add('k01', value = k10, min = 0)\n",
    "\n",
    "k23 = 372.61 / 24\n",
    "mala_params.add('k23', value = k23, min = 0)\n",
    "\n",
    "kE2 = 6.0801 / 24\n",
    "mala_params.add('kE2', value = kE2, min = 0)\n",
    "\n",
    "mala_minimizer = lmfit.Minimizer(cost_fnc, mala_params)\n",
    "result = mala_minimizer.minimize(method='nelder')"
   ]
  },
  {
   "cell_type": "code",
   "execution_count": 32,
   "metadata": {},
   "outputs": [
    {
     "data": {
      "text/plain": [
       "array([[  0.        ,   0.        ],\n",
       "       [  0.475351  , 139.48952469],\n",
       "       [  0.98425511, 271.24723515],\n",
       "       [  1.14161749, 265.15357169],\n",
       "       [  1.30703969, 244.77003056],\n",
       "       [  1.48040435, 220.83754639],\n",
       "       [  1.97741435, 139.74240746],\n",
       "       [  2.4822103 ,  90.47692976],\n",
       "       [  2.99467483,  62.03362019],\n",
       "       [  4.00364072,  31.23547083],\n",
       "       [  4.9967217 ,  16.4649784 ],\n",
       "       [  5.98909843,  10.66660331],\n",
       "       [  8.0053087 ,   4.47685033],\n",
       "       [ 10.012481  ,   2.64952489]])"
      ]
     },
     "execution_count": 32,
     "metadata": {},
     "output_type": "execute_result"
    }
   ],
   "source": [
    "Mala_data"
   ]
  },
  {
   "cell_type": "code",
   "execution_count": null,
   "metadata": {},
   "outputs": [],
   "source": []
  }
 ],
 "metadata": {
  "kernelspec": {
   "display_name": "Python 3",
   "language": "python",
   "name": "python3"
  },
  "language_info": {
   "codemirror_mode": {
    "name": "ipython",
    "version": 3
   },
   "file_extension": ".py",
   "mimetype": "text/x-python",
   "name": "python",
   "nbconvert_exporter": "python",
   "pygments_lexer": "ipython3",
   "version": "3.6.5"
  }
 },
 "nbformat": 4,
 "nbformat_minor": 2
}
